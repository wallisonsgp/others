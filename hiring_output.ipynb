{
 "cells": [
  {
   "cell_type": "code",
   "execution_count": 1,
   "metadata": {
    "execution": {
     "iopub.execute_input": "2020-11-12T13:06:43.860635Z",
     "iopub.status.busy": "2020-11-12T13:06:43.859656Z",
     "iopub.status.idle": "2020-11-12T13:06:46.288871Z",
     "shell.execute_reply": "2020-11-12T13:06:46.289625Z"
    },
    "papermill": {
     "duration": 2.463538,
     "end_time": "2020-11-12T13:06:46.290041",
     "exception": false,
     "start_time": "2020-11-12T13:06:43.826503",
     "status": "completed"
    },
    "tags": []
   },
   "outputs": [],
   "source": [
    "!pip install pymysql --quiet\n",
    "!pip install sshtunnel --quiet"
   ]
  },
  {
   "cell_type": "code",
   "execution_count": 2,
   "metadata": {
    "execution": {
     "iopub.execute_input": "2020-11-12T13:06:46.343334Z",
     "iopub.status.busy": "2020-11-12T13:06:46.342740Z",
     "iopub.status.idle": "2020-11-12T13:06:47.995236Z",
     "shell.execute_reply": "2020-11-12T13:06:47.995700Z"
    },
    "papermill": {
     "duration": 1.679875,
     "end_time": "2020-11-12T13:06:47.995877",
     "exception": false,
     "start_time": "2020-11-12T13:06:46.316002",
     "status": "completed"
    },
    "tags": []
   },
   "outputs": [],
   "source": [
    "import pandas as pd\n",
    "import numpy as np\n",
    "import seaborn as sns\n",
    "import matplotlib.pyplot as plt"
   ]
  },
  {
   "cell_type": "markdown",
   "metadata": {
    "papermill": {
     "duration": 0.023381,
     "end_time": "2020-11-12T13:06:48.042937",
     "exception": false,
     "start_time": "2020-11-12T13:06:48.019556",
     "status": "completed"
    },
    "tags": []
   },
   "source": [
    "# Parameters"
   ]
  },
  {
   "cell_type": "code",
   "execution_count": 3,
   "metadata": {
    "execution": {
     "iopub.execute_input": "2020-11-12T13:06:48.118942Z",
     "iopub.status.busy": "2020-11-12T13:06:48.118344Z",
     "iopub.status.idle": "2020-11-12T13:06:48.120184Z",
     "shell.execute_reply": "2020-11-12T13:06:48.120597Z"
    },
    "papermill": {
     "duration": 0.053886,
     "end_time": "2020-11-12T13:06:48.120779",
     "exception": false,
     "start_time": "2020-11-12T13:06:48.066893",
     "status": "completed"
    },
    "tags": []
   },
   "outputs": [],
   "source": [
    "# 17665"
   ]
  },
  {
   "cell_type": "code",
   "execution_count": 4,
   "metadata": {
    "execution": {
     "iopub.execute_input": "2020-11-12T13:06:48.171945Z",
     "iopub.status.busy": "2020-11-12T13:06:48.171143Z",
     "iopub.status.idle": "2020-11-12T13:06:48.173371Z",
     "shell.execute_reply": "2020-11-12T13:06:48.173763Z"
    },
    "papermill": {
     "duration": 0.030108,
     "end_time": "2020-11-12T13:06:48.173942",
     "exception": false,
     "start_time": "2020-11-12T13:06:48.143834",
     "status": "completed"
    },
    "tags": [
     "parameters"
    ]
   },
   "outputs": [],
   "source": [
    "company_id = 17665\n",
    "data_count = 'hiring_ratings1.csv'\n",
    "data_experience = 'experience.csv'\n",
    "date_min = ''\n",
    "date_max = ''"
   ]
  },
  {
   "cell_type": "code",
   "execution_count": 5,
   "metadata": {
    "execution": {
     "iopub.execute_input": "2020-11-12T13:06:48.225284Z",
     "iopub.status.busy": "2020-11-12T13:06:48.224609Z",
     "iopub.status.idle": "2020-11-12T13:06:48.226424Z",
     "shell.execute_reply": "2020-11-12T13:06:48.226820Z"
    },
    "papermill": {
     "duration": 0.029627,
     "end_time": "2020-11-12T13:06:48.227113",
     "exception": false,
     "start_time": "2020-11-12T13:06:48.197486",
     "status": "completed"
    },
    "tags": [
     "injected-parameters"
    ]
   },
   "outputs": [],
   "source": [
    "# Parameters\n",
    "data_count = \"hiring_ratings1.csv\"\n",
    "data_experience = \"experience.csv\"\n"
   ]
  },
  {
   "cell_type": "code",
   "execution_count": 6,
   "metadata": {
    "execution": {
     "iopub.execute_input": "2020-11-12T13:06:48.280184Z",
     "iopub.status.busy": "2020-11-12T13:06:48.279475Z",
     "iopub.status.idle": "2020-11-12T13:06:48.281467Z",
     "shell.execute_reply": "2020-11-12T13:06:48.281858Z"
    },
    "papermill": {
     "duration": 0.029918,
     "end_time": "2020-11-12T13:06:48.282036",
     "exception": false,
     "start_time": "2020-11-12T13:06:48.252118",
     "status": "completed"
    },
    "tags": []
   },
   "outputs": [],
   "source": [
    "# Default value for date_min and max\n",
    "date_min = '2019-01-01' if (date_min == '') else date_min\n",
    "date_max = '2021-12-31' if (date_max == '') else date_max"
   ]
  },
  {
   "cell_type": "markdown",
   "metadata": {
    "papermill": {
     "duration": 0.023957,
     "end_time": "2020-11-12T13:06:48.330224",
     "exception": false,
     "start_time": "2020-11-12T13:06:48.306267",
     "status": "completed"
    },
    "tags": []
   },
   "source": [
    "# Auxiliar"
   ]
  },
  {
   "cell_type": "code",
   "execution_count": 7,
   "metadata": {
    "execution": {
     "iopub.execute_input": "2020-11-12T13:06:48.386489Z",
     "iopub.status.busy": "2020-11-12T13:06:48.385854Z",
     "iopub.status.idle": "2020-11-12T13:06:48.462515Z",
     "shell.execute_reply": "2020-11-12T13:06:48.462956Z"
    },
    "jupyter": {
     "source_hidden": true
    },
    "papermill": {
     "duration": 0.108399,
     "end_time": "2020-11-12T13:06:48.463167",
     "exception": false,
     "start_time": "2020-11-12T13:06:48.354768",
     "status": "completed"
    },
    "tags": []
   },
   "outputs": [],
   "source": [
    "import os\n",
    "import pymysql\n",
    "from sshtunnel import SSHTunnelForwarder\n",
    "\n",
    "\n",
    "def get_data_sql(query, dev=False):\n",
    "    \"\"\"Acquire a dataset from a sql query either from prod or dev database.\n",
    "\n",
    "    For security purposes, some of the parameters for the connection are\n",
    "    environment variables and should be set when configuring the conda env.\n",
    "    For more information, check the README.expor\n",
    "    \"\"\"\n",
    "\n",
    "    if dev:\n",
    "        connection = pymysql.connect(user=os.environ['DB_USER'],\n",
    "                                     password=os.environ['DB_PASS'],\n",
    "                                     host=os.environ['DB_HOST'],\n",
    "                                     port=int(os.environ['DB_PORT']),\n",
    "                                     db=os.environ['DB_NAME'],\n",
    "                                     charset='utf8mb4',\n",
    "                                     cursorclass=pymysql.cursors.DictCursor)\n",
    "        data = pd.read_sql(query, connection)\n",
    "\n",
    "    else:\n",
    "        # Tunnel connection\n",
    "        try:\n",
    "            tunnel = SSHTunnelForwarder(\n",
    "                (os.environ['SSH_HOST'], int(os.environ['SSH_PORT'])),\n",
    "                ssh_username=os.environ['SSH_USER'],\n",
    "                ssh_private_key=os.environ['SSH_KEY_PATH'],\n",
    "                remote_bind_address=(os.environ['DB_HOST'],\n",
    "                                     int(os.environ['DB_PORT']))\n",
    "            )\n",
    "            tunnel.start()\n",
    "        except Exception as e:\n",
    "            print(e)\n",
    "            print('SSH Connection Error.')\n",
    "\n",
    "        # Database connection\n",
    "        try:\n",
    "            conn = pymysql.connect(host=tunnel.local_bind_host,\n",
    "                                   user=os.environ['DB_USER'],\n",
    "                                   passwd=os.environ['DB_PASS'],\n",
    "                                   db=os.environ['DB_NAME'],\n",
    "                                   port=tunnel.local_bind_port)\n",
    "        except Exception as e:\n",
    "            tunnel.close()\n",
    "            print(e)\n",
    "            print('Database Connection Error.')\n",
    "\n",
    "        # Get data\n",
    "        try:\n",
    "            with conn.cursor(pymysql.cursors.DictCursor) as cursor:\n",
    "                cursor.execute(query)\n",
    "                res = cursor.fetchall()\n",
    "                data = pd.DataFrame(res)\n",
    "\n",
    "        except Exception as e:\n",
    "            print(e)\n",
    "            print('Query Error.')\n",
    "\n",
    "        conn.close()\n",
    "        tunnel.close()\n",
    "\n",
    "    return data"
   ]
  },
  {
   "cell_type": "code",
   "execution_count": 8,
   "metadata": {
    "execution": {
     "iopub.execute_input": "2020-11-12T13:06:48.515214Z",
     "iopub.status.busy": "2020-11-12T13:06:48.514589Z",
     "iopub.status.idle": "2020-11-12T13:06:48.516483Z",
     "shell.execute_reply": "2020-11-12T13:06:48.516990Z"
    },
    "jupyter": {
     "source_hidden": true
    },
    "papermill": {
     "duration": 0.030643,
     "end_time": "2020-11-12T13:06:48.517175",
     "exception": false,
     "start_time": "2020-11-12T13:06:48.486532",
     "status": "completed"
    },
    "tags": []
   },
   "outputs": [],
   "source": [
    "def plot_heatmap(values, title='', figsize=(10, 5), **kwargs):\n",
    "    \"\"\"To keep a pattern in the notebook.\"\"\"\n",
    "    plt.figure(figsize=figsize)\n",
    "    sns.heatmap(values, linewidths=0, linecolor='red',cmap='binary',  vmin=0, vmax=1, **kwargs)\n",
    "    plt.title(title)\n",
    "    plt.show()"
   ]
  },
  {
   "cell_type": "code",
   "execution_count": 9,
   "metadata": {
    "execution": {
     "iopub.execute_input": "2020-11-12T13:06:48.573338Z",
     "iopub.status.busy": "2020-11-12T13:06:48.572541Z",
     "iopub.status.idle": "2020-11-12T13:06:48.574450Z",
     "shell.execute_reply": "2020-11-12T13:06:48.574842Z"
    },
    "jupyter": {
     "source_hidden": true
    },
    "papermill": {
     "duration": 0.031238,
     "end_time": "2020-11-12T13:06:48.575020",
     "exception": false,
     "start_time": "2020-11-12T13:06:48.543782",
     "status": "completed"
    },
    "tags": []
   },
   "outputs": [],
   "source": [
    "def check_null(data): \n",
    "    \"\"\"Print quantity of null values of whole dataset.\"\"\"\n",
    "    \n",
    "    raw = data.isnull().sum()\n",
    "    percent = data.isnull().sum()/data.shape[0]\n",
    "\n",
    "    values = []\n",
    "    for i, x in enumerate(raw.values):\n",
    "        values.append('{} ({:.5f}%)'.format(x, percent[i]))\n",
    "\n",
    "    null = pd.Series(index=raw.keys(), data=values)\n",
    "    \n",
    "    return null"
   ]
  },
  {
   "cell_type": "markdown",
   "metadata": {
    "papermill": {
     "duration": 0.024361,
     "end_time": "2020-11-12T13:06:48.623467",
     "exception": false,
     "start_time": "2020-11-12T13:06:48.599106",
     "status": "completed"
    },
    "tags": []
   },
   "source": [
    "<br>\n",
    "\n",
    "<h1 align='center'>Parcing Analysis</h1>"
   ]
  },
  {
   "cell_type": "markdown",
   "metadata": {
    "papermill": {
     "duration": 0.024612,
     "end_time": "2020-11-12T13:06:48.671915",
     "exception": false,
     "start_time": "2020-11-12T13:06:48.647303",
     "status": "completed"
    },
    "tags": []
   },
   "source": [
    "## Queries"
   ]
  },
  {
   "cell_type": "code",
   "execution_count": 10,
   "metadata": {
    "execution": {
     "iopub.execute_input": "2020-11-12T13:06:48.725362Z",
     "iopub.status.busy": "2020-11-12T13:06:48.724698Z",
     "iopub.status.idle": "2020-11-12T13:06:48.726509Z",
     "shell.execute_reply": "2020-11-12T13:06:48.726907Z"
    },
    "papermill": {
     "duration": 0.030676,
     "end_time": "2020-11-12T13:06:48.727151",
     "exception": false,
     "start_time": "2020-11-12T13:06:48.696475",
     "status": "completed"
    },
    "tags": []
   },
   "outputs": [],
   "source": [
    "query_rating = \"\"\"\n",
    "SELECT\n",
    "        a.id,\n",
    "        a.resume_id AS resume_id,\n",
    "        a.application_date,\n",
    "        ar.id AS acquired_resume_id,\n",
    "        jg.product_id,\n",
    "        ar.application_job_title,\n",
    "        jg.full_name AS job_group_name,\n",
    "        jg.company_id AS job_group_company_id,\n",
    "        p.rating,\n",
    "        p.rating_original,\n",
    "        COUNT(CASE WHEN parsed_job=0 THEN 1 END) as count_not_parsed_job,\n",
    "        COUNT(CASE WHEN parsed_job=1 THEN 1 END) as count_august_parsed_job,\n",
    "        COUNT(CASE WHEN parsed_job=2 THEN 1 END) as count_august_not_parsed_job,\n",
    "        COUNT(CASE WHEN parsed_job=3 THEN 1 END) as count_human_check_parsed_job,\n",
    "        COUNT(CASE WHEN parsed_company=0 THEN 1 END) as count_not_parsed_company,\n",
    "        COUNT(CASE WHEN parsed_company=1 THEN 1 END) as count_august_parsed_company,\n",
    "        COUNT(CASE WHEN parsed_company=2 THEN 1 END) as count_august_not_parsed_company,\n",
    "        COUNT(CASE WHEN parsed_company=3 THEN 1 END) as count_human_parsed_company\n",
    "    FROM acquired_resume ar\n",
    "        LEFT JOIN acquired_work AS aw ON ar.id=aw.acquired_resume_id\n",
    "        LEFT JOIN work AS w ON w.acquired_work_id=aw.id\n",
    "        LEFT JOIN resume AS r ON r.acquired_resume_id = ar.id\n",
    "        LEFT JOIN application AS a ON a.resume_id = r.id\n",
    "        LEFT JOIN prediction_hiring AS p ON p.application_id = a.id\n",
    "        LEFT JOIN requisition AS rq ON a.requisition_id = rq.id\n",
    "        LEFT JOIN job_title AS jt ON jt.id = rq.job_title_id\n",
    "        LEFT JOIN job_group AS jg ON jg.id = jt.job_group_id\n",
    "    WHERE jg.company_id = {COMPANY_ID}\n",
    "        AND a.application_date BETWEEN '{DATE_MIN}' AND '{DATE_MAX}'\n",
    "    GROUP BY resume_id,a.application_date,job_group_name;\n",
    "\"\"\".format(COMPANY_ID=company_id,DATE_MIN=date_min,DATE_MAX=date_max)"
   ]
  },
  {
   "cell_type": "markdown",
   "metadata": {
    "papermill": {
     "duration": 0.024825,
     "end_time": "2020-11-12T13:06:48.777220",
     "exception": false,
     "start_time": "2020-11-12T13:06:48.752395",
     "status": "completed"
    },
    "tags": []
   },
   "source": [
    "## Environ\n",
    "%env DB_NAME=\n",
    "%env DB_HOST=\n",
    "%env DB_PASS=\n",
    "%env DB_USER=\n",
    "%env DB_PORT="
   ]
  },
  {
   "cell_type": "markdown",
   "metadata": {
    "papermill": {
     "duration": 0.024039,
     "end_time": "2020-11-12T13:06:48.826853",
     "exception": false,
     "start_time": "2020-11-12T13:06:48.802814",
     "status": "completed"
    },
    "tags": []
   },
   "source": [
    "## > Get data"
   ]
  },
  {
   "cell_type": "code",
   "execution_count": 11,
   "metadata": {
    "execution": {
     "iopub.execute_input": "2020-11-12T13:06:48.879342Z",
     "iopub.status.busy": "2020-11-12T13:06:48.878697Z",
     "iopub.status.idle": "2020-11-12T13:06:48.885451Z",
     "shell.execute_reply": "2020-11-12T13:06:48.886115Z"
    },
    "papermill": {
     "duration": 0.035243,
     "end_time": "2020-11-12T13:06:48.886382",
     "exception": false,
     "start_time": "2020-11-12T13:06:48.851139",
     "status": "completed"
    },
    "tags": []
   },
   "outputs": [],
   "source": [
    "#df = get_data_sql(query_rating, True)\n",
    "df = pd.read_csv(data_count)"
   ]
  },
  {
   "cell_type": "code",
   "execution_count": 12,
   "metadata": {
    "execution": {
     "iopub.execute_input": "2020-11-12T13:06:48.943253Z",
     "iopub.status.busy": "2020-11-12T13:06:48.942330Z",
     "iopub.status.idle": "2020-11-12T13:06:48.948391Z",
     "shell.execute_reply": "2020-11-12T13:06:48.948802Z"
    },
    "papermill": {
     "duration": 0.037276,
     "end_time": "2020-11-12T13:06:48.948985",
     "exception": false,
     "start_time": "2020-11-12T13:06:48.911709",
     "status": "completed"
    },
    "tags": []
   },
   "outputs": [],
   "source": [
    "df = df.drop_duplicates()"
   ]
  },
  {
   "cell_type": "code",
   "execution_count": 13,
   "metadata": {
    "execution": {
     "iopub.execute_input": "2020-11-12T13:06:49.002896Z",
     "iopub.status.busy": "2020-11-12T13:06:49.002214Z",
     "iopub.status.idle": "2020-11-12T13:06:49.004950Z",
     "shell.execute_reply": "2020-11-12T13:06:49.005341Z"
    },
    "papermill": {
     "duration": 0.031354,
     "end_time": "2020-11-12T13:06:49.005520",
     "exception": false,
     "start_time": "2020-11-12T13:06:48.974166",
     "status": "completed"
    },
    "tags": []
   },
   "outputs": [
    {
     "name": "stdout",
     "output_type": "stream",
     "text": [
      "There are 328 unique IDs with ratings in the specified period.\n",
      "There are 328 rows with ratings in the specified period.\n"
     ]
    }
   ],
   "source": [
    "print('There are {} unique IDs with ratings in the specified period.'.format(df['resume_id'].nunique()))\n",
    "print(\"There are {} rows with ratings in the specified period.\".format(df.shape[0]))"
   ]
  },
  {
   "cell_type": "markdown",
   "metadata": {
    "papermill": {
     "duration": 0.024917,
     "end_time": "2020-11-12T13:06:49.055801",
     "exception": false,
     "start_time": "2020-11-12T13:06:49.030884",
     "status": "completed"
    },
    "tags": []
   },
   "source": [
    "## > Check Null"
   ]
  },
  {
   "cell_type": "code",
   "execution_count": 14,
   "metadata": {
    "execution": {
     "iopub.execute_input": "2020-11-12T13:06:49.110144Z",
     "iopub.status.busy": "2020-11-12T13:06:49.109552Z",
     "iopub.status.idle": "2020-11-12T13:06:49.116261Z",
     "shell.execute_reply": "2020-11-12T13:06:49.116664Z"
    },
    "papermill": {
     "duration": 0.036158,
     "end_time": "2020-11-12T13:06:49.116846",
     "exception": false,
     "start_time": "2020-11-12T13:06:49.080688",
     "status": "completed"
    },
    "tags": []
   },
   "outputs": [
    {
     "data": {
      "text/plain": [
       "id                                   0 (0.00000%)\n",
       "resume_id                            0 (0.00000%)\n",
       "application_date                     0 (0.00000%)\n",
       "acquired_resume_id                   0 (0.00000%)\n",
       "product_id                           0 (0.00000%)\n",
       "application_job_title              145 (0.44207%)\n",
       "job_group_name                       0 (0.00000%)\n",
       "job_group_company_id                 0 (0.00000%)\n",
       "rating                             318 (0.96951%)\n",
       "rating_original                    328 (1.00000%)\n",
       "count_not_parsed_job                 0 (0.00000%)\n",
       "count_august_parsed_job              0 (0.00000%)\n",
       "count_august_not_parsed_job          0 (0.00000%)\n",
       "count_human_check_parsed_job         0 (0.00000%)\n",
       "count_not_parsed_company             0 (0.00000%)\n",
       "count_august_parsed_company          0 (0.00000%)\n",
       "count_august_not_parsed_company      0 (0.00000%)\n",
       "count_human_parsed_company           0 (0.00000%)\n",
       "dtype: object"
      ]
     },
     "execution_count": 14,
     "metadata": {},
     "output_type": "execute_result"
    }
   ],
   "source": [
    "check_null(df)"
   ]
  },
  {
   "cell_type": "markdown",
   "metadata": {
    "papermill": {
     "duration": 0.026333,
     "end_time": "2020-11-12T13:06:49.168318",
     "exception": false,
     "start_time": "2020-11-12T13:06:49.141985",
     "status": "completed"
    },
    "tags": []
   },
   "source": [
    "## > Distribution"
   ]
  },
  {
   "cell_type": "code",
   "execution_count": 15,
   "metadata": {
    "execution": {
     "iopub.execute_input": "2020-11-12T13:06:49.223063Z",
     "iopub.status.busy": "2020-11-12T13:06:49.222436Z",
     "iopub.status.idle": "2020-11-12T13:06:49.385196Z",
     "shell.execute_reply": "2020-11-12T13:06:49.385581Z"
    },
    "papermill": {
     "duration": 0.191722,
     "end_time": "2020-11-12T13:06:49.385756",
     "exception": false,
     "start_time": "2020-11-12T13:06:49.194034",
     "status": "completed"
    },
    "tags": []
   },
   "outputs": [
    {
     "name": "stderr",
     "output_type": "stream",
     "text": [
      "/Users/guimaraes/opt/anaconda3/envs/papermill/lib/python3.7/site-packages/seaborn/distributions.py:2551: FutureWarning: `distplot` is a deprecated function and will be removed in a future version. Please adapt your code to use either `displot` (a figure-level function with similar flexibility) or `histplot` (an axes-level function for histograms).\n",
      "  warnings.warn(msg, FutureWarning)\n"
     ]
    },
    {
     "data": {
      "image/png": "[encoded data removed]",
      "text/plain": [
       "<Figure size 432x288 with 1 Axes>"
      ]
     },
     "metadata": {
      "needs_background": "light"
     },
     "output_type": "display_data"
    }
   ],
   "source": [
    "sns.distplot(df['rating'].fillna(-1),kde=False if df['rating'].nunique() < 10 else True)\n",
    "plt.show()"
   ]
  },
  {
   "cell_type": "markdown",
   "metadata": {
    "papermill": {
     "duration": 0.026646,
     "end_time": "2020-11-12T13:06:49.437564",
     "exception": false,
     "start_time": "2020-11-12T13:06:49.410918",
     "status": "completed"
    },
    "tags": []
   },
   "source": [
    "## > Functions"
   ]
  },
  {
   "cell_type": "code",
   "execution_count": 16,
   "metadata": {
    "execution": {
     "iopub.execute_input": "2020-11-12T13:06:49.509033Z",
     "iopub.status.busy": "2020-11-12T13:06:49.508189Z",
     "iopub.status.idle": "2020-11-12T13:06:49.510075Z",
     "shell.execute_reply": "2020-11-12T13:06:49.510519Z"
    },
    "jupyter": {
     "source_hidden": true
    },
    "papermill": {
     "duration": 0.045743,
     "end_time": "2020-11-12T13:06:49.510782",
     "exception": false,
     "start_time": "2020-11-12T13:06:49.465039",
     "status": "completed"
    },
    "tags": []
   },
   "outputs": [],
   "source": [
    "def count_job_title_parseds(df):\n",
    "    not_parsed = df['count_not_parsed_job'].sum()\n",
    "    august_parsed = df['count_august_parsed_job'].sum()\n",
    "    august_not_parsed = df['count_august_not_parsed_job'].sum()\n",
    "    human_checked = df['count_human_check_parsed_job'].sum()\n",
    "    parsed_mean = august_parsed / df['resume_id'].nunique()\n",
    "    max_parsed = df['count_august_parsed_job'].max()\n",
    "    min_parsed = df['count_august_parsed_job'].min()\n",
    "    print('AUGUST JOB TITLES\\n')\n",
    "    print('Not Parsed: '+str(not_parsed)+'('+str(round(not_parsed/df.shape[0],4))+'%)')\n",
    "    print('August Parsed: '+str(august_parsed)+'('+str(round(august_parsed/df.shape[0],4))+'%)')\n",
    "    print('August Not Parsed: '+str(august_not_parsed)+'('+str(round(august_not_parsed/df.shape[0],4))+'%)')\n",
    "    print('Human Checked: '+str(human_checked)+'('+str(round(human_checked/df.shape[0],4))+'%)')\n",
    "    print('Mean Parsed Job Titles a Candidate: '+str(round(parsed_mean,4)))\n",
    "    print('Min Parsed Job Titles a Candidate: '+str(round(min_parsed,4)))\n",
    "    print('Max Parsed Job Titles a Candidate: '+str(round(max_parsed,4)))\n",
    "\n",
    "def count_company_parseds(df):\n",
    "    not_parsed = df['count_not_parsed_company'].sum()\n",
    "    august_parsed = df['count_august_parsed_company'].sum()\n",
    "    august_not_parsed = df['count_august_not_parsed_company'].sum()\n",
    "    human_checked = df['count_human_parsed_company'].sum()\n",
    "    parsed_mean = august_parsed / df['resume_id'].nunique()\n",
    "    max_parsed = df['count_august_parsed_company'].max()\n",
    "    min_parsed = df['count_august_parsed_company'].min()\n",
    "    print('AUGUST COMPANIES\\n')\n",
    "    print('Not Parsed: '+str(not_parsed)+'('+str(round(not_parsed/df.shape[0],4))+'%)')\n",
    "    print('August Parsed: '+str(august_parsed)+'('+str(round(august_parsed/df.shape[0],4))+'%)')\n",
    "    print('August Not Parsed: '+str(august_not_parsed)+'('+str(round(august_not_parsed/df.shape[0],4))+'%)')\n",
    "    print('Human Checked: '+str(human_checked)+'('+str(round(human_checked/df.shape[0],4))+'%)')\n",
    "    print('Mean Parsed Companies a Candidate: '+str(round(parsed_mean,4)))\n",
    "    print('Min Parsed Companies a Candidate: '+str(round(min_parsed,4)))\n",
    "    print('Max Parsed Companies a Candidate: '+str(round(max_parsed,4)))\n",
    "\n",
    "def explore_experience(df):\n",
    "    #columns_to_print = ['aw_job_title','aw_company','date_start','date_end']\n",
    "    list_ids_job_title_null = []\n",
    "    list_ids_date_start_null = []\n",
    "    list_ids_august_parsed_job_null = []\n",
    "    list_ids_application_job_title_null = []\n",
    "    list_ids_date_start_bigger_date_end = []\n",
    "    list_ids_atention = []\n",
    "    df.reset_index(inplace = True)\n",
    "    df.set_index('resume_id',inplace = True)\n",
    "    for i in df.index.unique():\n",
    "        temp = df.loc[i]\n",
    "        print_space = False\n",
    "        if isinstance(temp,pd.Series):\n",
    "            temp = pd.DataFrame(temp).T\n",
    "        #Checking JobTitle\n",
    "        feature = 'aw_job_title'\n",
    "        if temp[temp[feature].notna()].shape[0]==0:\n",
    "            list_ids_job_title_null.append(i)\n",
    "            print_space = True\n",
    "        #Checking Date_start\n",
    "        feature = 'date_start'\n",
    "        if temp[temp[feature].notna()].shape[0]==0:\n",
    "            list_ids_date_start_null.append(i)\n",
    "            print_space = True\n",
    "        #Checking August_parsed_job\n",
    "        feature = 'august_parsed_job'\n",
    "        if temp[temp[feature]==1].shape[0]==0:\n",
    "            list_ids_august_parsed_job_null.append(i)\n",
    "            print_space = True\n",
    "        #Checking application_job_title\n",
    "        feature = 'application_job_title'\n",
    "        if temp[temp[feature]!='null'].shape[0]==0:\n",
    "            list_ids_application_job_title_null.append(i)\n",
    "            print_space = True\n",
    "        #Checking date_start > date_end\n",
    "        if temp[temp['date_start']>temp['date_end']].shape[0]!=0:\n",
    "            list_ids_date_start_bigger_date_end.append(i)\n",
    "            print_space = True    \n",
    "        if not print_space:\n",
    "                list_ids_atention.append(i)\n",
    "    print('IDs WITH PROBLEMS')\n",
    "    print('Date Start null: '+str(len(list_ids_date_start_null)))\n",
    "    print('Job Title null: '+str(len(list_ids_job_title_null)))\n",
    "    print('August Parsed Jobs null: '+str(len(list_ids_august_parsed_job_null)))\n",
    "    print('Application Job Title null: '+str(len(list_ids_application_job_title_null)))\n",
    "    print('Date Start is Bigger than Date End: '+str(len(list_ids_date_start_bigger_date_end)))\n",
    "    print('WARNING, problems did not find: '+str(len(list_ids_atention)))\n",
    "    print('Details')\n",
    "    #print(df.loc[list_ids_atention].index.values[1]+df.loc[list_ids_atention]['date_start']+'|'+df.loc[list_ids_atention]['aw_job_title']\n",
    "    #      +'|'+df.loc[list_ids_atention]['aw_company']+'|'+df.loc[list_ids_atention]['w_onetsoc_code']\n",
    "    #      +'|'+df.loc[list_ids_atention]['august_parsed_company']+'|'+df.loc[list_ids_atention]['august_parsed_job'])\n",
    "    for j in list_ids_atention:\n",
    "        temp = df.loc[j].reset_index()\n",
    "        print('>> ID: {}'.format(j))\n",
    "        for k in range(0,len(temp)):\n",
    "            print('Date Start: {} | Job Title: {} | Company {} | Onetsoc Code: {} | Parsed Company: {} | Parsed Job Title: {}.'.format(\n",
    "                temp.loc[k,'date_start'],temp.loc[k,'aw_job_title'],temp.loc[k,'aw_company'],temp.loc[k,'w_onetsoc_code'],\n",
    "                temp.loc[k,'august_parsed_company'],temp.loc[k,'august_parsed_job']))\n",
    "        print('\\n')"
   ]
  },
  {
   "cell_type": "markdown",
   "metadata": {
    "papermill": {
     "duration": 0.025981,
     "end_time": "2020-11-12T13:06:49.562767",
     "exception": false,
     "start_time": "2020-11-12T13:06:49.536786",
     "status": "completed"
    },
    "tags": []
   },
   "source": [
    "## > Job Title Statistics"
   ]
  },
  {
   "cell_type": "code",
   "execution_count": 17,
   "metadata": {
    "execution": {
     "iopub.execute_input": "2020-11-12T13:06:49.620667Z",
     "iopub.status.busy": "2020-11-12T13:06:49.619996Z",
     "iopub.status.idle": "2020-11-12T13:06:49.622544Z",
     "shell.execute_reply": "2020-11-12T13:06:49.622939Z"
    },
    "papermill": {
     "duration": 0.0336,
     "end_time": "2020-11-12T13:06:49.623119",
     "exception": false,
     "start_time": "2020-11-12T13:06:49.589519",
     "status": "completed"
    },
    "tags": []
   },
   "outputs": [
    {
     "name": "stdout",
     "output_type": "stream",
     "text": [
      "AUGUST JOB TITLES\n",
      "\n",
      "Not Parsed: 409(1.247%)\n",
      "August Parsed: 54(0.1646%)\n",
      "August Not Parsed: 14(0.0427%)\n",
      "Human Checked: 0(0.0%)\n",
      "Mean Parsed Job Titles a Candidate: 0.1646\n",
      "Min Parsed Job Titles a Candidate: 0\n",
      "Max Parsed Job Titles a Candidate: 5\n"
     ]
    }
   ],
   "source": [
    "count_job_title_parseds(df)"
   ]
  },
  {
   "cell_type": "markdown",
   "metadata": {
    "papermill": {
     "duration": 0.026355,
     "end_time": "2020-11-12T13:06:49.675050",
     "exception": false,
     "start_time": "2020-11-12T13:06:49.648695",
     "status": "completed"
    },
    "tags": []
   },
   "source": [
    "## > Company Statistics"
   ]
  },
  {
   "cell_type": "code",
   "execution_count": 18,
   "metadata": {
    "execution": {
     "iopub.execute_input": "2020-11-12T13:06:49.734363Z",
     "iopub.status.busy": "2020-11-12T13:06:49.733542Z",
     "iopub.status.idle": "2020-11-12T13:06:49.736114Z",
     "shell.execute_reply": "2020-11-12T13:06:49.736815Z"
    },
    "papermill": {
     "duration": 0.035026,
     "end_time": "2020-11-12T13:06:49.737103",
     "exception": false,
     "start_time": "2020-11-12T13:06:49.702077",
     "status": "completed"
    },
    "tags": []
   },
   "outputs": [
    {
     "name": "stdout",
     "output_type": "stream",
     "text": [
      "AUGUST COMPANIES\n",
      "\n",
      "Not Parsed: 409(1.247%)\n",
      "August Parsed: 30(0.0915%)\n",
      "August Not Parsed: 38(0.1159%)\n",
      "Human Checked: 0(0.0%)\n",
      "Mean Parsed Companies a Candidate: 0.0915\n",
      "Min Parsed Companies a Candidate: 0\n",
      "Max Parsed Companies a Candidate: 3\n"
     ]
    }
   ],
   "source": [
    "count_company_parseds(df)"
   ]
  },
  {
   "cell_type": "markdown",
   "metadata": {
    "papermill": {
     "duration": 0.02657,
     "end_time": "2020-11-12T13:06:49.790116",
     "exception": false,
     "start_time": "2020-11-12T13:06:49.763546",
     "status": "completed"
    },
    "tags": []
   },
   "source": [
    "<br>\n",
    "\n",
    "<h1 align='center'>Get Experience of candidates with Rating 0.0 or Null</h1>"
   ]
  },
  {
   "cell_type": "code",
   "execution_count": 19,
   "metadata": {
    "execution": {
     "iopub.execute_input": "2020-11-12T13:06:49.856310Z",
     "iopub.status.busy": "2020-11-12T13:06:49.855711Z",
     "iopub.status.idle": "2020-11-12T13:06:49.857600Z",
     "shell.execute_reply": "2020-11-12T13:06:49.858154Z"
    },
    "papermill": {
     "duration": 0.033357,
     "end_time": "2020-11-12T13:06:49.858333",
     "exception": false,
     "start_time": "2020-11-12T13:06:49.824976",
     "status": "completed"
    },
    "tags": []
   },
   "outputs": [],
   "source": [
    "#Filting the ids that have rating null or Zero\n",
    "ids_rating_zero = tuple(df.loc[(df['rating']==0) | (df['rating'].isna())]['id'].values)"
   ]
  },
  {
   "cell_type": "markdown",
   "metadata": {
    "papermill": {
     "duration": 0.02631,
     "end_time": "2020-11-12T13:06:49.911188",
     "exception": false,
     "start_time": "2020-11-12T13:06:49.884878",
     "status": "completed"
    },
    "tags": []
   },
   "source": [
    "## > Queries"
   ]
  },
  {
   "cell_type": "code",
   "execution_count": 20,
   "metadata": {
    "execution": {
     "iopub.execute_input": "2020-11-12T13:06:49.971906Z",
     "iopub.status.busy": "2020-11-12T13:06:49.971318Z",
     "iopub.status.idle": "2020-11-12T13:06:49.973326Z",
     "shell.execute_reply": "2020-11-12T13:06:49.973717Z"
    },
    "papermill": {
     "duration": 0.035882,
     "end_time": "2020-11-12T13:06:49.973897",
     "exception": false,
     "start_time": "2020-11-12T13:06:49.938015",
     "status": "completed"
    },
    "tags": []
   },
   "outputs": [],
   "source": [
    "query_experience = \"\"\"\n",
    "SELECT\n",
    "        a.resume_id AS resume_id,\n",
    "        a.application_date,\n",
    "        ar.id AS acquired_resume_id,\n",
    "        jg.product_id,\n",
    "        ar.application_job_title,\n",
    "        jg.full_name AS job_group_name,\n",
    "        jg.company_id AS job_group_company_id,\n",
    "        p.rating,\n",
    "        p.rating_original,\n",
    "        aw.date_start AS date_start,\n",
    "        aw.date_end AS date_end,\n",
    "        aw.job_title AS aw_job_title,\n",
    "        w.occupation_data_onetsoc_code AS w_onetsoc_code,\n",
    "        aw.company AS aw_company,\n",
    "        w.company_id AS w_company_id,\n",
    "        parsed_company AS august_parsed_company,\n",
    "        parsed_job AS august_parsed_job\n",
    "    FROM acquired_resume ar\n",
    "        LEFT JOIN acquired_work AS aw ON ar.id=aw.acquired_resume_id\n",
    "        LEFT JOIN work AS w ON w.acquired_work_id=aw.id\n",
    "        LEFT JOIN resume AS r ON r.acquired_resume_id = ar.id\n",
    "        LEFT JOIN application AS a ON a.resume_id = r.id\n",
    "        LEFT JOIN prediction_hiring AS p ON p.application_id = a.id\n",
    "        LEFT JOIN requisition AS rq ON a.requisition_id = rq.id\n",
    "        LEFT JOIN job_title AS jt ON jt.id = rq.job_title_id\n",
    "        LEFT JOIN job_group AS jg ON jg.id = jt.job_group_id\n",
    "    WHERE jg.company_id = {COMPANY_ID}\n",
    "        AND a.application_date BETWEEN '{DATE_MIN}' AND '{DATE_MAX}'\n",
    "        AND a.id IN\n",
    "            {IDS_RATING_ZERO};\n",
    "\"\"\".format(COMPANY_ID=company_id,IDS_RATING_ZERO=ids_rating_zero,DATE_MIN=date_min,DATE_MAX=date_max)"
   ]
  },
  {
   "cell_type": "markdown",
   "metadata": {
    "papermill": {
     "duration": 0.028186,
     "end_time": "2020-11-12T13:06:50.028263",
     "exception": false,
     "start_time": "2020-11-12T13:06:50.000077",
     "status": "completed"
    },
    "tags": []
   },
   "source": [
    "## > Get data"
   ]
  },
  {
   "cell_type": "code",
   "execution_count": 21,
   "metadata": {
    "execution": {
     "iopub.execute_input": "2020-11-12T13:06:50.088155Z",
     "iopub.status.busy": "2020-11-12T13:06:50.087564Z",
     "iopub.status.idle": "2020-11-12T13:06:50.103368Z",
     "shell.execute_reply": "2020-11-12T13:06:50.104079Z"
    },
    "papermill": {
     "duration": 0.047538,
     "end_time": "2020-11-12T13:06:50.104292",
     "exception": false,
     "start_time": "2020-11-12T13:06:50.056754",
     "status": "completed"
    },
    "tags": []
   },
   "outputs": [],
   "source": [
    "#df_experience = get_data_sql(query_experience, True)\n",
    "df_experience = pd.read_csv(data_experience)"
   ]
  },
  {
   "cell_type": "code",
   "execution_count": 22,
   "metadata": {
    "execution": {
     "iopub.execute_input": "2020-11-12T13:06:50.162704Z",
     "iopub.status.busy": "2020-11-12T13:06:50.162116Z",
     "iopub.status.idle": "2020-11-12T13:06:50.167916Z",
     "shell.execute_reply": "2020-11-12T13:06:50.168425Z"
    },
    "papermill": {
     "duration": 0.036745,
     "end_time": "2020-11-12T13:06:50.168614",
     "exception": false,
     "start_time": "2020-11-12T13:06:50.131869",
     "status": "completed"
    },
    "tags": []
   },
   "outputs": [],
   "source": [
    "df_experience = df_experience.drop_duplicates()"
   ]
  },
  {
   "cell_type": "code",
   "execution_count": 23,
   "metadata": {
    "execution": {
     "iopub.execute_input": "2020-11-12T13:06:50.227557Z",
     "iopub.status.busy": "2020-11-12T13:06:50.226936Z",
     "iopub.status.idle": "2020-11-12T13:06:50.241148Z",
     "shell.execute_reply": "2020-11-12T13:06:50.241616Z"
    },
    "papermill": {
     "duration": 0.04503,
     "end_time": "2020-11-12T13:06:50.241858",
     "exception": false,
     "start_time": "2020-11-12T13:06:50.196828",
     "status": "completed"
    },
    "tags": []
   },
   "outputs": [],
   "source": [
    "df_experience.to_csv('experience.csv')"
   ]
  },
  {
   "cell_type": "code",
   "execution_count": 24,
   "metadata": {
    "execution": {
     "iopub.execute_input": "2020-11-12T13:06:50.300755Z",
     "iopub.status.busy": "2020-11-12T13:06:50.300076Z",
     "iopub.status.idle": "2020-11-12T13:06:50.302367Z",
     "shell.execute_reply": "2020-11-12T13:06:50.302958Z"
    },
    "papermill": {
     "duration": 0.03429,
     "end_time": "2020-11-12T13:06:50.303236",
     "exception": false,
     "start_time": "2020-11-12T13:06:50.268946",
     "status": "completed"
    },
    "tags": []
   },
   "outputs": [
    {
     "name": "stdout",
     "output_type": "stream",
     "text": [
      "There are 327 unique IDs unique IDs with ratings in the specified period.\n",
      "There are 538 rows with ratings in the specified period.\n"
     ]
    }
   ],
   "source": [
    "print('There are {} unique IDs unique IDs with ratings in the specified period.'.format(df_experience['resume_id'].nunique()))\n",
    "print(\"There are {} rows with ratings in the specified period.\".format(df_experience.shape[0]))"
   ]
  },
  {
   "cell_type": "markdown",
   "metadata": {
    "papermill": {
     "duration": 0.026979,
     "end_time": "2020-11-12T13:06:50.357918",
     "exception": false,
     "start_time": "2020-11-12T13:06:50.330939",
     "status": "completed"
    },
    "tags": []
   },
   "source": [
    "## > Split rows with rating 0.0 and Null"
   ]
  },
  {
   "cell_type": "code",
   "execution_count": 25,
   "metadata": {
    "execution": {
     "iopub.execute_input": "2020-11-12T13:06:50.418897Z",
     "iopub.status.busy": "2020-11-12T13:06:50.418297Z",
     "iopub.status.idle": "2020-11-12T13:06:50.420648Z",
     "shell.execute_reply": "2020-11-12T13:06:50.421050Z"
    },
    "papermill": {
     "duration": 0.035696,
     "end_time": "2020-11-12T13:06:50.421236",
     "exception": false,
     "start_time": "2020-11-12T13:06:50.385540",
     "status": "completed"
    },
    "tags": []
   },
   "outputs": [],
   "source": [
    "zero_rating = df_experience.loc[df_experience['rating']==0].set_index('resume_id')"
   ]
  },
  {
   "cell_type": "code",
   "execution_count": 26,
   "metadata": {
    "execution": {
     "iopub.execute_input": "2020-11-12T13:06:50.481762Z",
     "iopub.status.busy": "2020-11-12T13:06:50.480956Z",
     "iopub.status.idle": "2020-11-12T13:06:50.482929Z",
     "shell.execute_reply": "2020-11-12T13:06:50.483544Z"
    },
    "papermill": {
     "duration": 0.03499,
     "end_time": "2020-11-12T13:06:50.483740",
     "exception": false,
     "start_time": "2020-11-12T13:06:50.448750",
     "status": "completed"
    },
    "tags": []
   },
   "outputs": [],
   "source": [
    "null_rating = df_experience.loc[df_experience['rating'].isna()].set_index('resume_id')"
   ]
  },
  {
   "cell_type": "markdown",
   "metadata": {
    "papermill": {
     "duration": 0.029286,
     "end_time": "2020-11-12T13:06:50.540741",
     "exception": false,
     "start_time": "2020-11-12T13:06:50.511455",
     "status": "completed"
    },
    "tags": []
   },
   "source": [
    "<br>\n",
    "\n",
    "<h2 align='center'>Checking Experiences that rating rows is Null</h2>"
   ]
  },
  {
   "cell_type": "markdown",
   "metadata": {
    "papermill": {
     "duration": 0.028584,
     "end_time": "2020-11-12T13:06:50.597727",
     "exception": false,
     "start_time": "2020-11-12T13:06:50.569143",
     "status": "completed"
    },
    "tags": []
   },
   "source": [
    "### > Check for invalid dates"
   ]
  },
  {
   "cell_type": "code",
   "execution_count": 27,
   "metadata": {
    "execution": {
     "iopub.execute_input": "2020-11-12T13:06:50.660920Z",
     "iopub.status.busy": "2020-11-12T13:06:50.660293Z",
     "iopub.status.idle": "2020-11-12T13:06:50.669373Z",
     "shell.execute_reply": "2020-11-12T13:06:50.669944Z"
    },
    "papermill": {
     "duration": 0.04548,
     "end_time": "2020-11-12T13:06:50.670255",
     "exception": false,
     "start_time": "2020-11-12T13:06:50.624775",
     "status": "completed"
    },
    "tags": []
   },
   "outputs": [],
   "source": [
    "date_cols = ['date_end', 'date_start']\n",
    "\n",
    "if null_rating.shape[0]:\n",
    "    for col in date_cols:\n",
    "        null_rating['year_' + col] = null_rating[col].fillna(np.nan).astype(str).str.split('-', expand=True)[0].astype(float)  # get year\n",
    "\n",
    "    year_cols = ['year_' + col for col in date_cols]\n",
    "    g2020 = null_rating[year_cols]>2020\n",
    "    g2020.columns = [col + '>2020' for col in year_cols]\n",
    "    l1970 = null_rating[year_cols]<1970\n",
    "    l1970.columns = [col + '<1970' for col in year_cols]\n",
    "    \n",
    "    date_conditionals = pd.concat([g2020, l1970], axis=1)\n"
   ]
  },
  {
   "cell_type": "markdown",
   "metadata": {
    "papermill": {
     "duration": 0.027477,
     "end_time": "2020-11-12T13:06:50.725229",
     "exception": false,
     "start_time": "2020-11-12T13:06:50.697752",
     "status": "completed"
    },
    "tags": []
   },
   "source": [
    "### > Check for invalid experiences"
   ]
  },
  {
   "cell_type": "code",
   "execution_count": 28,
   "metadata": {
    "execution": {
     "iopub.execute_input": "2020-11-12T13:06:50.786894Z",
     "iopub.status.busy": "2020-11-12T13:06:50.786277Z",
     "iopub.status.idle": "2020-11-12T13:06:50.788484Z",
     "shell.execute_reply": "2020-11-12T13:06:50.788884Z"
    },
    "papermill": {
     "duration": 0.035959,
     "end_time": "2020-11-12T13:06:50.789065",
     "exception": false,
     "start_time": "2020-11-12T13:06:50.753106",
     "status": "completed"
    },
    "tags": []
   },
   "outputs": [],
   "source": [
    "invalid_xp_cols = ['date_start', 'date_end', 'aw_job_title', 'w_onetsoc_code', 'aw_company', 'w_company_id']\n",
    "\n",
    "null_count = []\n",
    "for col in invalid_xp_cols:\n",
    "    null_count.append(null_rating[col].isna().sum())"
   ]
  },
  {
   "cell_type": "code",
   "execution_count": 29,
   "metadata": {
    "execution": {
     "iopub.execute_input": "2020-11-12T13:06:50.862809Z",
     "iopub.status.busy": "2020-11-12T13:06:50.862213Z",
     "iopub.status.idle": "2020-11-12T13:06:50.979654Z",
     "shell.execute_reply": "2020-11-12T13:06:50.980167Z"
    },
    "papermill": {
     "duration": 0.16007,
     "end_time": "2020-11-12T13:06:50.980349",
     "exception": false,
     "start_time": "2020-11-12T13:06:50.820279",
     "status": "completed"
    },
    "tags": []
   },
   "outputs": [
    {
     "data": {
      "image/png": "[encoded data removed]",
      "text/plain": [
       "<Figure size 504x360 with 1 Axes>"
      ]
     },
     "metadata": {
      "needs_background": "light"
     },
     "output_type": "display_data"
    },
    {
     "name": "stdout",
     "output_type": "stream",
     "text": [
      "[510, 128, 62, 482, 62, 491]\n"
     ]
    }
   ],
   "source": [
    "plt.figure(figsize=(7, 5))\n",
    "plt.bar(invalid_xp_cols, null_count, 0.5)\n",
    "plt.title('Count of null rows by column')\n",
    "plt.xticks(rotation=90)\n",
    "plt.show()\n",
    "print(null_count)"
   ]
  },
  {
   "cell_type": "markdown",
   "metadata": {
    "papermill": {
     "duration": 0.030098,
     "end_time": "2020-11-12T13:06:51.038666",
     "exception": false,
     "start_time": "2020-11-12T13:06:51.008568",
     "status": "completed"
    },
    "tags": []
   },
   "source": [
    "### > Check Null"
   ]
  },
  {
   "cell_type": "code",
   "execution_count": 30,
   "metadata": {
    "execution": {
     "iopub.execute_input": "2020-11-12T13:06:51.103148Z",
     "iopub.status.busy": "2020-11-12T13:06:51.102212Z",
     "iopub.status.idle": "2020-11-12T13:06:51.105239Z",
     "shell.execute_reply": "2020-11-12T13:06:51.105629Z"
    },
    "papermill": {
     "duration": 0.038318,
     "end_time": "2020-11-12T13:06:51.105806",
     "exception": false,
     "start_time": "2020-11-12T13:06:51.067488",
     "status": "completed"
    },
    "tags": []
   },
   "outputs": [
    {
     "data": {
      "text/plain": [
       "Unnamed: 0                 0 (0.00000%)\n",
       "Unnamed: 0.1               0 (0.00000%)\n",
       "application_date           0 (0.00000%)\n",
       "acquired_resume_id         0 (0.00000%)\n",
       "product_id                 0 (0.00000%)\n",
       "application_job_title    237 (0.46289%)\n",
       "job_group_name             0 (0.00000%)\n",
       "job_group_company_id       0 (0.00000%)\n",
       "rating                   512 (1.00000%)\n",
       "rating_original          512 (1.00000%)\n",
       "date_start               510 (0.99609%)\n",
       "date_end                 128 (0.25000%)\n",
       "aw_job_title              62 (0.12109%)\n",
       "w_onetsoc_code           482 (0.94141%)\n",
       "aw_company                62 (0.12109%)\n",
       "w_company_id             491 (0.95898%)\n",
       "august_parsed_company     62 (0.12109%)\n",
       "august_parsed_job         62 (0.12109%)\n",
       "year_date_end            128 (0.25000%)\n",
       "year_date_start          510 (0.99609%)\n",
       "dtype: object"
      ]
     },
     "execution_count": 30,
     "metadata": {},
     "output_type": "execute_result"
    }
   ],
   "source": [
    "check_null(null_rating)"
   ]
  },
  {
   "cell_type": "markdown",
   "metadata": {
    "papermill": {
     "duration": 0.028407,
     "end_time": "2020-11-12T13:06:51.163613",
     "exception": false,
     "start_time": "2020-11-12T13:06:51.135206",
     "status": "completed"
    },
    "tags": []
   },
   "source": [
    "### > Plot null rows"
   ]
  },
  {
   "cell_type": "code",
   "execution_count": 31,
   "metadata": {
    "execution": {
     "iopub.execute_input": "2020-11-12T13:06:51.245074Z",
     "iopub.status.busy": "2020-11-12T13:06:51.244426Z",
     "iopub.status.idle": "2020-11-12T13:06:51.595482Z",
     "shell.execute_reply": "2020-11-12T13:06:51.595876Z"
    },
    "jupyter": {
     "source_hidden": true
    },
    "papermill": {
     "duration": 0.40259,
     "end_time": "2020-11-12T13:06:51.596060",
     "exception": false,
     "start_time": "2020-11-12T13:06:51.193470",
     "status": "completed"
    },
    "tags": []
   },
   "outputs": [
    {
     "data": {
      "image/png": "[encoded data removed]",
      "text/plain": [
       "<Figure size 720x360 with 2 Axes>"
      ]
     },
     "metadata": {
      "needs_background": "light"
     },
     "output_type": "display_data"
    },
    {
     "name": "stdout",
     "output_type": "stream",
     "text": [
      "date_start        510\n",
      "date_end          128\n",
      "aw_job_title       62\n",
      "w_onetsoc_code    482\n",
      "aw_company         62\n",
      "w_company_id      491\n",
      "dtype: int64\n"
     ]
    }
   ],
   "source": [
    "plot_heatmap(null_rating[invalid_xp_cols].isna(), title='Heatmap of Null columns')\n",
    "print(null_rating[invalid_xp_cols].isna().sum())"
   ]
  },
  {
   "cell_type": "markdown",
   "metadata": {
    "papermill": {
     "duration": 0.034571,
     "end_time": "2020-11-12T13:06:51.660905",
     "exception": false,
     "start_time": "2020-11-12T13:06:51.626334",
     "status": "completed"
    },
    "tags": []
   },
   "source": [
    "### > Check dates range"
   ]
  },
  {
   "cell_type": "code",
   "execution_count": 32,
   "metadata": {
    "execution": {
     "iopub.execute_input": "2020-11-12T13:06:51.787839Z",
     "iopub.status.busy": "2020-11-12T13:06:51.787185Z",
     "iopub.status.idle": "2020-11-12T13:06:52.496895Z",
     "shell.execute_reply": "2020-11-12T13:06:52.497371Z"
    },
    "papermill": {
     "duration": 0.800067,
     "end_time": "2020-11-12T13:06:52.497584",
     "exception": false,
     "start_time": "2020-11-12T13:06:51.697517",
     "status": "completed"
    },
    "tags": []
   },
   "outputs": [
    {
     "data": {
      "image/png": "[encoded data removed]",
      "text/plain": [
       "<Figure size 1080x576 with 2 Axes>"
      ]
     },
     "metadata": {
      "needs_background": "light"
     },
     "output_type": "display_data"
    },
    {
     "name": "stdout",
     "output_type": "stream",
     "text": [
      "year_date_end>2020      1\n",
      "year_date_start>2020    0\n",
      "year_date_end<1970      0\n",
      "year_date_start<1970    0\n",
      "dtype: int64\n"
     ]
    }
   ],
   "source": [
    "plot_heatmap(date_conditionals, title='Heatmap of dates out of range', figsize=(15, 8))\n",
    "print(date_conditionals.sum())"
   ]
  },
  {
   "cell_type": "markdown",
   "metadata": {
    "papermill": {
     "duration": 0.033142,
     "end_time": "2020-11-12T13:06:52.562433",
     "exception": false,
     "start_time": "2020-11-12T13:06:52.529291",
     "status": "completed"
    },
    "tags": []
   },
   "source": [
    "### > Analysing Experience Details"
   ]
  },
  {
   "cell_type": "code",
   "execution_count": 33,
   "metadata": {
    "execution": {
     "iopub.execute_input": "2020-11-12T13:06:52.823824Z",
     "iopub.status.busy": "2020-11-12T13:06:52.689302Z",
     "iopub.status.idle": "2020-11-12T13:06:53.528125Z",
     "shell.execute_reply": "2020-11-12T13:06:53.528613Z"
    },
    "papermill": {
     "duration": 0.934355,
     "end_time": "2020-11-12T13:06:53.528798",
     "exception": false,
     "start_time": "2020-11-12T13:06:52.594443",
     "status": "completed"
    },
    "tags": []
   },
   "outputs": [
    {
     "name": "stdout",
     "output_type": "stream",
     "text": [
      "IDs WITH PROBLEMS\n",
      "Date Start null: 316\n",
      "Job Title null: 62\n",
      "August Parsed Jobs null: 304\n",
      "Application Job Title null: 0\n",
      "Date Start is Bigger than Date End: 0\n",
      "WARNING, problems did not find: 0\n",
      "Details\n"
     ]
    }
   ],
   "source": [
    "explore_experience(null_rating)"
   ]
  },
  {
   "cell_type": "markdown",
   "metadata": {
    "papermill": {
     "duration": 0.033324,
     "end_time": "2020-11-12T13:06:53.596908",
     "exception": false,
     "start_time": "2020-11-12T13:06:53.563584",
     "status": "completed"
    },
    "tags": []
   },
   "source": [
    "<br>\n",
    "\n",
    "<h2 align='center'>Checking Experiences that rating rows is 0.0</h2>"
   ]
  },
  {
   "cell_type": "markdown",
   "metadata": {
    "papermill": {
     "duration": 0.030745,
     "end_time": "2020-11-12T13:06:53.659179",
     "exception": false,
     "start_time": "2020-11-12T13:06:53.628434",
     "status": "completed"
    },
    "tags": []
   },
   "source": [
    "### > Check for invalid dates"
   ]
  },
  {
   "cell_type": "code",
   "execution_count": 34,
   "metadata": {
    "execution": {
     "iopub.execute_input": "2020-11-12T13:06:53.733815Z",
     "iopub.status.busy": "2020-11-12T13:06:53.732967Z",
     "iopub.status.idle": "2020-11-12T13:06:53.735274Z",
     "shell.execute_reply": "2020-11-12T13:06:53.735671Z"
    },
    "papermill": {
     "duration": 0.044165,
     "end_time": "2020-11-12T13:06:53.735852",
     "exception": false,
     "start_time": "2020-11-12T13:06:53.691687",
     "status": "completed"
    },
    "tags": []
   },
   "outputs": [],
   "source": [
    "date_cols = ['date_end', 'date_start']\n",
    "\n",
    "if zero_rating.shape[0]:\n",
    "    for col in date_cols:\n",
    "        zero_rating['year_' + col] = zero_rating[col].fillna(np.nan).astype(str).str.split('-', expand=True)[0].astype(float)  # get year\n",
    "\n",
    "    year_cols = ['year_' + col for col in date_cols]\n",
    "    g2020 = zero_rating[year_cols]>2020\n",
    "    g2020.columns = [col + '>2020' for col in year_cols]\n",
    "    l1970 = zero_rating[year_cols]<1970\n",
    "    l1970.columns = [col + '<1970' for col in year_cols]\n",
    "\n",
    "    date_conditionals = pd.concat([g2020, l1970], axis=1)"
   ]
  },
  {
   "cell_type": "markdown",
   "metadata": {
    "papermill": {
     "duration": 0.035814,
     "end_time": "2020-11-12T13:06:53.802652",
     "exception": false,
     "start_time": "2020-11-12T13:06:53.766838",
     "status": "completed"
    },
    "tags": []
   },
   "source": [
    "### > Check for invalid experiences"
   ]
  },
  {
   "cell_type": "code",
   "execution_count": 35,
   "metadata": {
    "execution": {
     "iopub.execute_input": "2020-11-12T13:06:53.873812Z",
     "iopub.status.busy": "2020-11-12T13:06:53.872960Z",
     "iopub.status.idle": "2020-11-12T13:06:53.875043Z",
     "shell.execute_reply": "2020-11-12T13:06:53.875688Z"
    },
    "papermill": {
     "duration": 0.040461,
     "end_time": "2020-11-12T13:06:53.875902",
     "exception": false,
     "start_time": "2020-11-12T13:06:53.835441",
     "status": "completed"
    },
    "tags": []
   },
   "outputs": [],
   "source": [
    "invalid_xp_cols = ['date_start', 'date_end', 'aw_job_title', 'w_onetsoc_code', 'aw_company', 'w_company_id']\n",
    "\n",
    "null_count = []\n",
    "for col in invalid_xp_cols:\n",
    "    null_count.append(zero_rating[col].isna().sum())"
   ]
  },
  {
   "cell_type": "code",
   "execution_count": 36,
   "metadata": {
    "execution": {
     "iopub.execute_input": "2020-11-12T13:06:53.978673Z",
     "iopub.status.busy": "2020-11-12T13:06:53.977747Z",
     "iopub.status.idle": "2020-11-12T13:06:54.082895Z",
     "shell.execute_reply": "2020-11-12T13:06:54.083284Z"
    },
    "papermill": {
     "duration": 0.172706,
     "end_time": "2020-11-12T13:06:54.083492",
     "exception": false,
     "start_time": "2020-11-12T13:06:53.910786",
     "status": "completed"
    },
    "tags": []
   },
   "outputs": [
    {
     "data": {
      "image/png": "[encoded data removed]",
      "text/plain": [
       "<Figure size 504x360 with 1 Axes>"
      ]
     },
     "metadata": {
      "needs_background": "light"
     },
     "output_type": "display_data"
    },
    {
     "name": "stdout",
     "output_type": "stream",
     "text": [
      "[17, 6, 0, 3, 0, 17]\n"
     ]
    }
   ],
   "source": [
    "plt.figure(figsize=(7, 5))\n",
    "plt.bar(invalid_xp_cols, null_count, 0.5)\n",
    "plt.title('Count of null rows by column')\n",
    "plt.xticks(rotation=90)\n",
    "plt.show()\n",
    "print(null_count)"
   ]
  },
  {
   "cell_type": "markdown",
   "metadata": {
    "papermill": {
     "duration": 0.035724,
     "end_time": "2020-11-12T13:06:54.152701",
     "exception": false,
     "start_time": "2020-11-12T13:06:54.116977",
     "status": "completed"
    },
    "tags": []
   },
   "source": [
    "### > Check Null"
   ]
  },
  {
   "cell_type": "code",
   "execution_count": 37,
   "metadata": {
    "execution": {
     "iopub.execute_input": "2020-11-12T13:06:54.226898Z",
     "iopub.status.busy": "2020-11-12T13:06:54.226304Z",
     "iopub.status.idle": "2020-11-12T13:06:54.228948Z",
     "shell.execute_reply": "2020-11-12T13:06:54.229338Z"
    },
    "papermill": {
     "duration": 0.042283,
     "end_time": "2020-11-12T13:06:54.229518",
     "exception": false,
     "start_time": "2020-11-12T13:06:54.187235",
     "status": "completed"
    },
    "tags": []
   },
   "outputs": [
    {
     "data": {
      "text/plain": [
       "Unnamed: 0                0 (0.00000%)\n",
       "Unnamed: 0.1              0 (0.00000%)\n",
       "application_date          0 (0.00000%)\n",
       "acquired_resume_id        0 (0.00000%)\n",
       "product_id                0 (0.00000%)\n",
       "application_job_title     3 (0.11538%)\n",
       "job_group_name            0 (0.00000%)\n",
       "job_group_company_id      0 (0.00000%)\n",
       "rating                    0 (0.00000%)\n",
       "rating_original          26 (1.00000%)\n",
       "date_start               17 (0.65385%)\n",
       "date_end                  6 (0.23077%)\n",
       "aw_job_title              0 (0.00000%)\n",
       "w_onetsoc_code            3 (0.11538%)\n",
       "aw_company                0 (0.00000%)\n",
       "w_company_id             17 (0.65385%)\n",
       "august_parsed_company     0 (0.00000%)\n",
       "august_parsed_job         0 (0.00000%)\n",
       "year_date_end             6 (0.23077%)\n",
       "year_date_start          17 (0.65385%)\n",
       "dtype: object"
      ]
     },
     "execution_count": 37,
     "metadata": {},
     "output_type": "execute_result"
    }
   ],
   "source": [
    "check_null(zero_rating)"
   ]
  },
  {
   "cell_type": "markdown",
   "metadata": {
    "papermill": {
     "duration": 0.034446,
     "end_time": "2020-11-12T13:06:54.299049",
     "exception": false,
     "start_time": "2020-11-12T13:06:54.264603",
     "status": "completed"
    },
    "tags": []
   },
   "source": [
    "### > Plot null rows"
   ]
  },
  {
   "cell_type": "code",
   "execution_count": 38,
   "metadata": {
    "execution": {
     "iopub.execute_input": "2020-11-12T13:06:54.433806Z",
     "iopub.status.busy": "2020-11-12T13:06:54.432965Z",
     "iopub.status.idle": "2020-11-12T13:06:54.726693Z",
     "shell.execute_reply": "2020-11-12T13:06:54.727151Z"
    },
    "papermill": {
     "duration": 0.393722,
     "end_time": "2020-11-12T13:06:54.727338",
     "exception": false,
     "start_time": "2020-11-12T13:06:54.333616",
     "status": "completed"
    },
    "tags": []
   },
   "outputs": [
    {
     "data": {
      "image/png": "[encoded data removed]",
      "text/plain": [
       "<Figure size 720x360 with 2 Axes>"
      ]
     },
     "metadata": {
      "needs_background": "light"
     },
     "output_type": "display_data"
    },
    {
     "name": "stdout",
     "output_type": "stream",
     "text": [
      "date_start        17\n",
      "date_end           6\n",
      "aw_job_title       0\n",
      "w_onetsoc_code     3\n",
      "aw_company         0\n",
      "w_company_id      17\n",
      "dtype: int64\n"
     ]
    }
   ],
   "source": [
    "plot_heatmap(zero_rating[invalid_xp_cols].isna(), title='Heatmap of Null columns')\n",
    "print(zero_rating[invalid_xp_cols].isna().sum())"
   ]
  },
  {
   "cell_type": "markdown",
   "metadata": {
    "papermill": {
     "duration": 0.04474,
     "end_time": "2020-11-12T13:06:54.805941",
     "exception": false,
     "start_time": "2020-11-12T13:06:54.761201",
     "status": "completed"
    },
    "tags": []
   },
   "source": [
    "### > Check dates range"
   ]
  },
  {
   "cell_type": "code",
   "execution_count": 39,
   "metadata": {
    "execution": {
     "iopub.execute_input": "2020-11-12T13:06:54.930202Z",
     "iopub.status.busy": "2020-11-12T13:06:54.904474Z",
     "iopub.status.idle": "2020-11-12T13:06:55.282961Z",
     "shell.execute_reply": "2020-11-12T13:06:55.283414Z"
    },
    "papermill": {
     "duration": 0.430161,
     "end_time": "2020-11-12T13:06:55.283594",
     "exception": false,
     "start_time": "2020-11-12T13:06:54.853433",
     "status": "completed"
    },
    "tags": []
   },
   "outputs": [
    {
     "data": {
      "image/png": "[encoded data removed]",
      "text/plain": [
       "<Figure size 1080x576 with 2 Axes>"
      ]
     },
     "metadata": {
      "needs_background": "light"
     },
     "output_type": "display_data"
    },
    {
     "name": "stdout",
     "output_type": "stream",
     "text": [
      "year_date_end>2020      0\n",
      "year_date_start>2020    0\n",
      "year_date_end<1970      0\n",
      "year_date_start<1970    0\n",
      "dtype: int64\n"
     ]
    }
   ],
   "source": [
    "plot_heatmap(date_conditionals, title='Heatmap of dates out of range', figsize=(15, 8))\n",
    "print(date_conditionals.sum())"
   ]
  },
  {
   "cell_type": "markdown",
   "metadata": {
    "papermill": {
     "duration": 0.039354,
     "end_time": "2020-11-12T13:06:55.360039",
     "exception": false,
     "start_time": "2020-11-12T13:06:55.320685",
     "status": "completed"
    },
    "tags": []
   },
   "source": [
    "### > Analysing Experience Details"
   ]
  },
  {
   "cell_type": "code",
   "execution_count": 40,
   "metadata": {
    "execution": {
     "iopub.execute_input": "2020-11-12T13:06:55.463883Z",
     "iopub.status.busy": "2020-11-12T13:06:55.463036Z",
     "iopub.status.idle": "2020-11-12T13:06:55.467275Z",
     "shell.execute_reply": "2020-11-12T13:06:55.467670Z"
    },
    "papermill": {
     "duration": 0.072109,
     "end_time": "2020-11-12T13:06:55.467851",
     "exception": false,
     "start_time": "2020-11-12T13:06:55.395742",
     "status": "completed"
    },
    "tags": []
   },
   "outputs": [
    {
     "name": "stdout",
     "output_type": "stream",
     "text": [
      "IDs WITH PROBLEMS\n",
      "Date Start null: 6\n",
      "Job Title null: 0\n",
      "August Parsed Jobs null: 0\n",
      "Application Job Title null: 0\n",
      "Date Start is Bigger than Date End: 0\n",
      "WARNING, problems did not find: 3\n",
      "Details\n",
      ">> ID: 808993\n",
      "Date Start: 2013-02-28 | Job Title: Estágio de Técnico em Administração | Company Belgo Bekaert Arames | Onetsoc Code: 13-1199.04 | Parsed Company: 1.0 | Parsed Job Title: 1.0.\n",
      "Date Start: 2016-01-31 | Job Title: Cuidadora de Idosos | Company Associação da Diacônia da Pessoa Idosa | Onetsoc Code: 39-9021.00 | Parsed Company: 2.0 | Parsed Job Title: 1.0.\n",
      "\n",
      "\n",
      ">> ID: 808995\n",
      "Date Start: 2007-12-31 | Job Title: Técnico em Telecomunicações | Company Telefônica Brasil/VIVO | Onetsoc Code: 49-2022.00 | Parsed Company: 1.0 | Parsed Job Title: 1.0.\n",
      "Date Start: 2005-12-31 | Job Title: Técnico em Eletrônica | Company Gerais Sinalização LTDA/BHTRANS | Onetsoc Code: 17-3023.01 | Parsed Company: 2.0 | Parsed Job Title: 1.0.\n",
      "\n",
      "\n",
      ">> ID: 808996\n",
      "Date Start: 2020-01-12 | Job Title: Enfermeira Atenção Primária | Company FCA Saúde | Onetsoc Code: 29-1171.00 | Parsed Company: 1.0 | Parsed Job Title: 1.0.\n",
      "Date Start: 2015-02-02 | Job Title: Estagiária de Enfermagem | Company Hospital Maternidade Monte Sinai | Onetsoc Code: 31-1014.00 | Parsed Company: 1.0 | Parsed Job Title: 1.0.\n",
      "Date Start: 2014-02-28 | Job Title: Estagiária de Enfermagem na Unidade de Internação | Company Hospital Maternidade Therezinha de Jesus | Onetsoc Code: 13-1199.04 | Parsed Company: 2.0 | Parsed Job Title: 1.0.\n",
      "Date Start: 2015-10-31 | Job Title: Enfermeira Audiora Trainee | Company Companhia de Saúde Mineira - Saúde Servidor | Onetsoc Code: 29-1141.00 | Parsed Company: 2.0 | Parsed Job Title: 1.0.\n",
      "Date Start: 2017-02-28 | Job Title: Enfermeira Residente Multiprofissional em Saúde da Família | Company Hospital Universitário da Universidade Federal de Juiz de Fora (HU/UFJF) | Onetsoc Code: 29-1141.00 | Parsed Company: 2.0 | Parsed Job Title: 1.0.\n",
      "\n",
      "\n"
     ]
    }
   ],
   "source": [
    "explore_experience(zero_rating)"
   ]
  }
 ],
 "metadata": {
  "celltoolbar": "Tags",
  "kernelspec": {
   "display_name": "Python 3",
   "language": "python",
   "name": "python3"
  },
  "language_info": {
   "codemirror_mode": {
    "name": "ipython",
    "version": 3
   },
   "file_extension": ".py",
   "mimetype": "text/x-python",
   "name": "python",
   "nbconvert_exporter": "python",
   "pygments_lexer": "ipython3",
   "version": "3.8.3"
  },
  "papermill": {
   "default_parameters": {},
   "duration": 13.643671,
   "end_time": "2020-11-12T13:06:55.918791",
   "environment_variables": {},
   "exception": null,
   "input_path": "hiring_ratings.ipynb",
   "output_path": "hiring_output.ipynb",
   "parameters": {
    "data_count": "hiring_ratings1.csv",
    "data_experience": "experience.csv"
   },
   "start_time": "2020-11-12T13:06:42.275120",
   "version": "2.2.2"
  }
 },
 "nbformat": 4,
 "nbformat_minor": 4
}
